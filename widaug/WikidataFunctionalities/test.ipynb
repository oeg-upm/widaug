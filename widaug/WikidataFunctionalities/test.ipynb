{
 "cells": [
  {
   "cell_type": "code",
   "execution_count": 1,
   "metadata": {},
   "outputs": [],
   "source": [
    "import entity_searcher as entsearch\n",
    "import wikiquery as wikiq\n",
    "\n",
    "dir = r\"C:\\Users\\ASUS\\Desktop\\Sanchez\\Uni\\OEG\\[TFG]\\trie_4p.tsv\"\n",
    "file = open(dir,'r',encoding='utf8')"
   ]
  },
  {
   "cell_type": "code",
   "execution_count": 10,
   "metadata": {},
   "outputs": [
    {
     "name": "stdout",
     "output_type": "stream",
     "text": [
      "\n",
      "['carcinoma', 'profesor']\n"
     ]
    }
   ],
   "source": [
    "entity_list = ['carcinoma','profesor']\n",
    "print()\n",
    "print(entity_list)"
   ]
  },
  {
   "cell_type": "code",
   "execution_count": 11,
   "metadata": {},
   "outputs": [
    {
     "name": "stdout",
     "output_type": "stream",
     "text": [
      "\n",
      "['Q33525', 'Q495871']\n"
     ]
    }
   ],
   "source": [
    "id_list = entsearch.get_id(file,entity_list)\n",
    "print()\n",
    "print(id_list)"
   ]
  },
  {
   "cell_type": "code",
   "execution_count": 13,
   "metadata": {},
   "outputs": [
    {
     "name": "stdout",
     "output_type": "stream",
     "text": [
      "\n",
      "Searching carcinoma\n",
      "Q33525: ['Tirosinemia tipo 2', 'infección puerperal', 'sabañón', 'laringoespasmo', 'Trastorno por uso de cannabis']\n",
      "\n",
      "Searching profesor\n",
      "Exception: Expecting value: line 1 column 1 (char 0)\n",
      "Q495871: []\n",
      "\n"
     ]
    }
   ],
   "source": [
    "sibling_list = []\n",
    "print()\n",
    "for count,i in enumerate(id_list):\n",
    "    print('Searching ' + entity_list[count])\n",
    "    sibling = wikiq.search_sib(i,'P31','es',5)\n",
    "    if not sibling:\n",
    "        sibling = wikiq.search_sib(i,'P106','es',5)\n",
    "        \n",
    "    print(i + ': ' + str(sibling) + '\\n')"
   ]
  },
  {
   "cell_type": "markdown",
   "metadata": {},
   "source": [
    "PROFESSIONS"
   ]
  },
  {
   "cell_type": "code",
   "execution_count": 2,
   "metadata": {},
   "outputs": [
    {
     "name": "stdout",
     "output_type": "stream",
     "text": [
      "['psiquiatra forense', 'escritor jefe', 'jugador de fútbol canadiense', 'consultor', 'columnista deportivo', 'técnico de mantenimiento de aeronaves', 'redactor de discursos', 'praepositus balneariorum', 'juez electoral', 'ultramaratonista', 'Benshi', 'entrenador', 'modelo fetichista', 'bacteriólogo', 'jugador de pádel', 'profesor de kindergarten', 'investigador criminal', 'audiólogo', 'condottiero', 'químico']\n"
     ]
    }
   ],
   "source": [
    "prof_list = wikiq.search_child('Q28640','P31','es',20)\n",
    "print(prof_list)"
   ]
  }
 ],
 "metadata": {
  "interpreter": {
   "hash": "2c171bff2cae98c41b2ae55aab1df891c69c295b61356962a826b91bc9c88d78"
  },
  "kernelspec": {
   "display_name": "Python 3.6.5 64-bit",
   "language": "python",
   "name": "python3"
  },
  "language_info": {
   "codemirror_mode": {
    "name": "ipython",
    "version": 3
   },
   "file_extension": ".py",
   "mimetype": "text/x-python",
   "name": "python",
   "nbconvert_exporter": "python",
   "pygments_lexer": "ipython3",
   "version": "3.6.5"
  },
  "orig_nbformat": 4
 },
 "nbformat": 4,
 "nbformat_minor": 2
}
